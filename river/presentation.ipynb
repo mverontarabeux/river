{
 "cells": [
  {
   "cell_type": "markdown",
   "id": "1e022215",
   "metadata": {},
   "source": [
    "# Presentation : Conformal prediction implementation in River\n",
    "\n",
    "- BOGGIO Richard\n",
    "- MDIHI Samy\n",
    "- VERON Marc"
   ]
  },
  {
   "cell_type": "markdown",
   "id": "5625a67e",
   "metadata": {},
   "source": [
    "## Modules imports"
   ]
  },
  {
   "cell_type": "markdown",
   "id": "c416ee1b",
   "metadata": {},
   "source": [
    "Important to note that our custom modules have to be imported manually"
   ]
  },
  {
   "cell_type": "code",
   "execution_count": 2,
   "id": "f15ae695",
   "metadata": {},
   "outputs": [],
   "source": [
    "# Existing in River\n",
    "from river import datasets\n",
    "from river import metrics\n",
    "\n",
    "# Not existing in River\n",
    "import time_series.evaluate\n",
    "from time_series.holt_winters import HoltWinters\n",
    "import conf\n",
    "import time_series"
   ]
  },
  {
   "cell_type": "markdown",
   "id": "05799b2d",
   "metadata": {},
   "source": [
    "## Airline passengers dataset"
   ]
  },
  {
   "cell_type": "code",
   "execution_count": 3,
   "id": "be37cf04",
   "metadata": {},
   "outputs": [],
   "source": [
    "dataset = datasets.AirlinePassengers()"
   ]
  },
  {
   "cell_type": "markdown",
   "id": "0ce10404",
   "metadata": {},
   "source": [
    "## Defining the forecasting model"
   ]
  },
  {
   "cell_type": "code",
   "execution_count": 4,
   "id": "4cb77706",
   "metadata": {},
   "outputs": [],
   "source": [
    "model = HoltWinters(\n",
    "        alpha=0.3,\n",
    "        beta=0.1,\n",
    "        gamma=0.6,\n",
    "        seasonality=12,\n",
    "        multiplicative=True\n",
    "        )"
   ]
  },
  {
   "cell_type": "code",
   "execution_count": 5,
   "id": "94588d85",
   "metadata": {},
   "outputs": [],
   "source": [
    "calib_period = 100\n",
    "metric = metrics.MAE()\n",
    "interval = conf.Gaussian(window_size=calib_period)"
   ]
  },
  {
   "cell_type": "code",
   "execution_count": 6,
   "id": "a688d11b",
   "metadata": {},
   "outputs": [
    {
     "data": {
      "text/plain": [
       "(+1  MAE: 39.432543\n",
       " +2  MAE: 38.132746\n",
       " +3  MAE: 37.370918\n",
       " +4  MAE: 37.74146\n",
       " +5  MAE: 37.968714\n",
       " +6  MAE: 38.922898\n",
       " +7  MAE: 42.079442\n",
       " +8  MAE: 42.828249\n",
       " +9  MAE: 47.111859\n",
       " +10 MAE: 48.481283\n",
       " +11 MAE: 50.429104\n",
       " +12 MAE: 50.401671,\n",
       " +1  (568.2561719334531, 209.15725662800554)\n",
       " +2  (625.7857065141985, 195.98726993814728)\n",
       " +3  (635.8580022730974, 142.52079701933621)\n",
       " +4  (695.0583720728821, 219.7299595434409)\n",
       " +5  (648.4961798093627, 241.3118097693339)\n",
       " +6  (645.6000896768649, 291.5140136476755)\n",
       " +7  (700.7480043748395, 376.14074767116597)\n",
       " +8  (799.5301010352644, 445.00400269826923)\n",
       " +9  (813.660475470789, 451.66571449287005)\n",
       " +10 (693.8838953645484, 346.09133989997235)\n",
       " +11 (655.2915484867885, 256.2480949498797)\n",
       " +12 (596.009046572053, 204.7156433398405))"
      ]
     },
     "execution_count": 6,
     "metadata": {},
     "output_type": "execute_result"
    }
   ],
   "source": [
    "time_series.evaluate(\n",
    "        dataset,\n",
    "        model,\n",
    "        metric,\n",
    "        interval,\n",
    "        horizon=12,\n",
    "        residual_calibration_period = calib_period\n",
    "        )\n"
   ]
  },
  {
   "cell_type": "code",
   "execution_count": null,
   "id": "7c9e489b",
   "metadata": {},
   "outputs": [],
   "source": [
    "dir(conf)"
   ]
  },
  {
   "cell_type": "code",
   "execution_count": null,
   "id": "2fceb181",
   "metadata": {},
   "outputs": [],
   "source": [
    "dir(time_series)"
   ]
  },
  {
   "cell_type": "code",
   "execution_count": null,
   "id": "22803472",
   "metadata": {},
   "outputs": [],
   "source": []
  }
 ],
 "metadata": {
  "kernelspec": {
   "display_name": "Python 3 (ipykernel)",
   "language": "python",
   "name": "python3"
  },
  "language_info": {
   "codemirror_mode": {
    "name": "ipython",
    "version": 3
   },
   "file_extension": ".py",
   "mimetype": "text/x-python",
   "name": "python",
   "nbconvert_exporter": "python",
   "pygments_lexer": "ipython3",
   "version": "3.11.0"
  },
  "vscode": {
   "interpreter": {
    "hash": "c261aea317cc0286b3b3261fbba9abdec21eaa57589985bb7a274bf54d6cc0a7"
   }
  }
 },
 "nbformat": 4,
 "nbformat_minor": 5
}

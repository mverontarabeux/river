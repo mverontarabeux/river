{
 "cells": [
  {
   "attachments": {},
   "cell_type": "markdown",
   "id": "1e022215",
   "metadata": {},
   "source": [
    "# Presentation : Conformal prediction implementation in River\n",
    "\n",
    "- BOGGIO Richard\n",
    "- MDIHI Samy\n",
    "- VERON Marc"
   ]
  },
  {
   "attachments": {},
   "cell_type": "markdown",
   "id": "5625a67e",
   "metadata": {},
   "source": [
    "## Modules imports"
   ]
  },
  {
   "attachments": {},
   "cell_type": "markdown",
   "id": "c416ee1b",
   "metadata": {},
   "source": [
    "Important to note that our custom modules have to be imported manually"
   ]
  },
  {
   "cell_type": "code",
   "execution_count": 25,
   "id": "f15ae695",
   "metadata": {},
   "outputs": [],
   "source": [
    "# Existing in River\n",
    "from river import datasets\n",
    "from river import metrics\n",
    "\n",
    "# Not existing in River\n",
    "from conf.gaussian import Gaussian\n",
    "from time_series import evaluate\n",
    "from time_series.holt_winters import HoltWinters\n",
    "import conf"
   ]
  },
  {
   "attachments": {},
   "cell_type": "markdown",
   "id": "05799b2d",
   "metadata": {},
   "source": [
    "## Airline passengers dataset"
   ]
  },
  {
   "cell_type": "code",
   "execution_count": 22,
   "id": "be37cf04",
   "metadata": {},
   "outputs": [],
   "source": [
    "dataset = datasets.AirlinePassengers()"
   ]
  },
  {
   "attachments": {},
   "cell_type": "markdown",
   "id": "0ce10404",
   "metadata": {},
   "source": [
    "## Defining the forecasting model"
   ]
  },
  {
   "cell_type": "code",
   "execution_count": 23,
   "id": "4cb77706",
   "metadata": {},
   "outputs": [],
   "source": [
    "model = HoltWinters(\n",
    "        alpha=0.3,\n",
    "        beta=0.1,\n",
    "        gamma=0.6,\n",
    "        seasonality=12,\n",
    "        multiplicative=True\n",
    "        )"
   ]
  },
  {
   "cell_type": "code",
   "execution_count": 27,
   "id": "94588d85",
   "metadata": {},
   "outputs": [
    {
     "ename": "AttributeError",
     "evalue": "module 'conf' has no attribute 'base'",
     "output_type": "error",
     "traceback": [
      "\u001b[1;31m---------------------------------------------------------------------------\u001b[0m",
      "\u001b[1;31mAttributeError\u001b[0m                            Traceback (most recent call last)",
      "Cell \u001b[1;32mIn[27], line 3\u001b[0m\n\u001b[0;32m      1\u001b[0m calib_period \u001b[39m=\u001b[39m \u001b[39m100\u001b[39m\n\u001b[0;32m      2\u001b[0m metric \u001b[39m=\u001b[39m metrics\u001b[39m.\u001b[39mMAE()\n\u001b[1;32m----> 3\u001b[0m interval \u001b[39m=\u001b[39m conf\u001b[39m.\u001b[39;49mbase\u001b[39m.\u001b[39mGaussian(window_size\u001b[39m=\u001b[39mcalib_period)\n\u001b[0;32m      5\u001b[0m evaluate(\n\u001b[0;32m      6\u001b[0m         dataset,\n\u001b[0;32m      7\u001b[0m         model,\n\u001b[1;32m   (...)\u001b[0m\n\u001b[0;32m     11\u001b[0m         residual_calibration_period \u001b[39m=\u001b[39m calib_period\n\u001b[0;32m     12\u001b[0m     )\n",
      "\u001b[1;31mAttributeError\u001b[0m: module 'conf' has no attribute 'base'"
     ]
    }
   ],
   "source": [
    "calib_period = 100\n",
    "metric = metrics.MAE()\n",
    "interval = conf.base.Gaussian(window_size=calib_period)\n",
    "\n",
    "evaluate(\n",
    "        dataset,\n",
    "        model,\n",
    "        metric,\n",
    "        interval,\n",
    "        horizon=12,\n",
    "        residual_calibration_period = calib_period\n",
    "    )"
   ]
  },
  {
   "cell_type": "code",
   "execution_count": null,
   "id": "7c9e489b",
   "metadata": {},
   "outputs": [],
   "source": [
    "dir(conf)"
   ]
  }
 ],
 "metadata": {
  "kernelspec": {
   "display_name": "Python 3",
   "language": "python",
   "name": "python3"
  },
  "language_info": {
   "codemirror_mode": {
    "name": "ipython",
    "version": 3
   },
   "file_extension": ".py",
   "mimetype": "text/x-python",
   "name": "python",
   "nbconvert_exporter": "python",
   "pygments_lexer": "ipython3",
   "version": "3.11.0"
  },
  "vscode": {
   "interpreter": {
    "hash": "c261aea317cc0286b3b3261fbba9abdec21eaa57589985bb7a274bf54d6cc0a7"
   }
  }
 },
 "nbformat": 4,
 "nbformat_minor": 5
}

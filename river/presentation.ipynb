{
 "cells": [
  {
   "attachments": {},
   "cell_type": "markdown",
   "id": "1e022215",
   "metadata": {},
   "source": [
    "# Presentation : Conformal prediction implementation in River\n",
    "\n",
    "- BOGGIO Richard\n",
    "- MDIHI Samy\n",
    "- VERON Marc"
   ]
  },
  {
   "attachments": {},
   "cell_type": "markdown",
   "id": "5625a67e",
   "metadata": {},
   "source": [
    "## Modules imports"
   ]
  },
  {
   "attachments": {},
   "cell_type": "markdown",
   "id": "c416ee1b",
   "metadata": {},
   "source": [
    "Important to note that our custom modules have to be imported manually"
   ]
  },
  {
   "cell_type": "code",
   "execution_count": 1,
   "id": "f15ae695",
   "metadata": {},
   "outputs": [],
   "source": [
    "# Existing in River\n",
    "from river import datasets\n",
    "from river import metrics\n",
    "\n",
    "# Not existing in River\n",
    "import time_series.evaluate\n",
    "from time_series.holt_winters import HoltWinters\n",
    "import conf\n",
    "import time_series"
   ]
  },
  {
   "attachments": {},
   "cell_type": "markdown",
   "id": "05799b2d",
   "metadata": {},
   "source": [
    "## Airline passengers dataset"
   ]
  },
  {
   "cell_type": "code",
   "execution_count": 2,
   "id": "be37cf04",
   "metadata": {},
   "outputs": [],
   "source": [
    "dataset = datasets.AirlinePassengers()"
   ]
  },
  {
   "attachments": {},
   "cell_type": "markdown",
   "id": "0ce10404",
   "metadata": {},
   "source": [
    "## Defining the forecasting model"
   ]
  },
  {
   "cell_type": "code",
   "execution_count": 3,
   "id": "4cb77706",
   "metadata": {},
   "outputs": [],
   "source": [
    "model = HoltWinters(\n",
    "        alpha=0.3,\n",
    "        beta=0.1,\n",
    "        gamma=0.6,\n",
    "        seasonality=12,\n",
    "        multiplicative=True\n",
    "        )"
   ]
  },
  {
   "cell_type": "code",
   "execution_count": 4,
   "id": "94588d85",
   "metadata": {},
   "outputs": [],
   "source": [
    "calib_period = 100\n",
    "metric = metrics.MAE()\n",
    "interval = conf.Gaussian(window_size=calib_period)"
   ]
  },
  {
   "cell_type": "code",
   "execution_count": 5,
   "id": "a688d11b",
   "metadata": {},
   "outputs": [
    {
     "ename": "AttributeError",
     "evalue": "module 'river.time_series' has no attribute 'HorizonInterval'",
     "output_type": "error",
     "traceback": [
      "\u001b[1;31m---------------------------------------------------------------------------\u001b[0m",
      "\u001b[1;31mAttributeError\u001b[0m                            Traceback (most recent call last)",
      "Cell \u001b[1;32mIn[5], line 1\u001b[0m\n\u001b[1;32m----> 1\u001b[0m time_series\u001b[39m.\u001b[39;49mevaluate(\n\u001b[0;32m      2\u001b[0m         dataset,\n\u001b[0;32m      3\u001b[0m         model,\n\u001b[0;32m      4\u001b[0m         metric,\n\u001b[0;32m      5\u001b[0m         interval,\n\u001b[0;32m      6\u001b[0m         horizon\u001b[39m=\u001b[39;49m\u001b[39m12\u001b[39;49m,\n\u001b[0;32m      7\u001b[0m         residual_calibration_period \u001b[39m=\u001b[39;49m calib_period\n\u001b[0;32m      8\u001b[0m )\n",
      "File \u001b[1;32mc:\\Users\\mvero\\Desktop\\Cours\\M3\\Cours M3\\DataStream\\Projet\\river\\river\\time_series\\evaluate.py:222\u001b[0m, in \u001b[0;36mevaluate\u001b[1;34m(dataset, model, metric, interval, horizon, agg_func, grace_period, residual_calibration_period)\u001b[0m\n\u001b[0;32m    218\u001b[0m horizon_interval \u001b[39m=\u001b[39m \u001b[39mNone\u001b[39;00m\n\u001b[0;32m    219\u001b[0m steps \u001b[39m=\u001b[39m iter_evaluate(dataset, model, metric, \n\u001b[0;32m    220\u001b[0m                       interval, horizon, agg_func, \n\u001b[0;32m    221\u001b[0m                       grace_period, residual_calibration_period)\n\u001b[1;32m--> 222\u001b[0m \u001b[39mfor\u001b[39;00m \u001b[39m*\u001b[39m_, horizon_metric, horizon_interval \u001b[39min\u001b[39;00m steps:\n\u001b[0;32m    223\u001b[0m     \u001b[39mpass\u001b[39;00m\n\u001b[0;32m    225\u001b[0m \u001b[39mreturn\u001b[39;00m horizon_metric, horizon_interval\n",
      "File \u001b[1;32mc:\\Users\\mvero\\Desktop\\Cours\\M3\\Cours M3\\DataStream\\Projet\\river\\river\\time_series\\evaluate.py:120\u001b[0m, in \u001b[0;36miter_evaluate\u001b[1;34m(dataset, model, metric, interval, horizon, agg_func, grace_period, residual_calibration_period)\u001b[0m\n\u001b[0;32m    113\u001b[0m horizon_metric \u001b[39m=\u001b[39m (\n\u001b[0;32m    114\u001b[0m     time_series\u001b[39m.\u001b[39mHorizonAggMetric(metric, agg_func)\n\u001b[0;32m    115\u001b[0m     \u001b[39mif\u001b[39;00m agg_func\n\u001b[0;32m    116\u001b[0m     \u001b[39melse\u001b[39;00m time_series\u001b[39m.\u001b[39mHorizonMetric(metric)\n\u001b[0;32m    117\u001b[0m )\n\u001b[0;32m    119\u001b[0m \u001b[39m# Defining the interval for a certain horizon\u001b[39;00m\n\u001b[1;32m--> 120\u001b[0m horizon_interval \u001b[39m=\u001b[39m (time_series\u001b[39m.\u001b[39;49mHorizonInterval(interval))\n\u001b[0;32m    122\u001b[0m \u001b[39m##############################################################################\u001b[39;00m\n\u001b[0;32m    123\u001b[0m \u001b[39m# Pre-train the model\u001b[39;00m\n\u001b[0;32m    124\u001b[0m \u001b[39m##############################################################################\u001b[39;00m\n\u001b[0;32m    125\u001b[0m \n\u001b[0;32m    126\u001b[0m \u001b[39m# Initialize the dataset from the beginning to get the grace period\u001b[39;00m\n\u001b[0;32m    127\u001b[0m steps \u001b[39m=\u001b[39m _iter_with_horizon(dataset, horizon)\n",
      "\u001b[1;31mAttributeError\u001b[0m: module 'river.time_series' has no attribute 'HorizonInterval'"
     ]
    }
   ],
   "source": [
    "time_series.evaluate(\n",
    "        dataset,\n",
    "        model,\n",
    "        metric,\n",
    "        interval,\n",
    "        horizon=12,\n",
    "        residual_calibration_period = calib_period\n",
    "        )\n"
   ]
  },
  {
   "cell_type": "code",
   "execution_count": 28,
   "id": "7c9e489b",
   "metadata": {},
   "outputs": [
    {
     "data": {
      "text/plain": [
       "['Gaussian',\n",
       " 'Interval',\n",
       " 'RegressionJackknife',\n",
       " '__all__',\n",
       " '__builtins__',\n",
       " '__cached__',\n",
       " '__doc__',\n",
       " '__file__',\n",
       " '__loader__',\n",
       " '__name__',\n",
       " '__package__',\n",
       " '__path__',\n",
       " '__spec__',\n",
       " 'gaussian']"
      ]
     },
     "execution_count": 28,
     "metadata": {},
     "output_type": "execute_result"
    }
   ],
   "source": [
    "dir(conf)"
   ]
  },
  {
   "cell_type": "code",
   "execution_count": 40,
   "id": "2fceb181",
   "metadata": {},
   "outputs": [
    {
     "data": {
      "text/plain": [
       "['ForecastingInterval',\n",
       " 'ForecastingMetric',\n",
       " 'Gaussian',\n",
       " 'HoltWinters',\n",
       " 'HorizonAggMetric',\n",
       " 'HorizonInterval',\n",
       " 'HorizonMetric',\n",
       " 'SNARIMAX',\n",
       " '__all__',\n",
       " '__builtins__',\n",
       " '__cached__',\n",
       " '__doc__',\n",
       " '__file__',\n",
       " '__loader__',\n",
       " '__name__',\n",
       " '__package__',\n",
       " '__path__',\n",
       " '__spec__',\n",
       " 'base',\n",
       " 'evaluate',\n",
       " 'intervals',\n",
       " 'iter_evaluate']"
      ]
     },
     "execution_count": 40,
     "metadata": {},
     "output_type": "execute_result"
    }
   ],
   "source": [
    "dir(time_series)"
   ]
  },
  {
   "cell_type": "code",
   "execution_count": null,
   "id": "22803472",
   "metadata": {},
   "outputs": [],
   "source": []
  }
 ],
 "metadata": {
  "kernelspec": {
   "display_name": "Python 3",
   "language": "python",
   "name": "python3"
  },
  "language_info": {
   "codemirror_mode": {
    "name": "ipython",
    "version": 3
   },
   "file_extension": ".py",
   "mimetype": "text/x-python",
   "name": "python",
   "nbconvert_exporter": "python",
   "pygments_lexer": "ipython3",
   "version": "3.11.0"
  },
  "vscode": {
   "interpreter": {
    "hash": "c261aea317cc0286b3b3261fbba9abdec21eaa57589985bb7a274bf54d6cc0a7"
   }
  }
 },
 "nbformat": 4,
 "nbformat_minor": 5
}
